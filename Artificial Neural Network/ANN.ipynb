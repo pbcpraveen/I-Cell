{
 "cells": [
  {
   "cell_type": "code",
   "execution_count": 225,
   "metadata": {},
   "outputs": [],
   "source": [
    "import tensorflow as tf\n",
    "import numpy as np\n",
    "import pandas as pd\n",
    "import matplotlib.pyplot as plt"
   ]
  },
  {
   "cell_type": "code",
   "execution_count": 226,
   "metadata": {},
   "outputs": [],
   "source": [
    "master = pd.read_csv('./titanic/train.csv')"
   ]
  },
  {
   "cell_type": "code",
   "execution_count": 227,
   "metadata": {},
   "outputs": [
    {
     "name": "stdout",
     "output_type": "stream",
     "text": [
      "<class 'pandas.core.frame.DataFrame'>\n",
      "RangeIndex: 891 entries, 0 to 890\n",
      "Data columns (total 12 columns):\n",
      "PassengerId    891 non-null int64\n",
      "Survived       891 non-null int64\n",
      "Pclass         891 non-null int64\n",
      "Name           891 non-null object\n",
      "Sex            891 non-null object\n",
      "Age            714 non-null float64\n",
      "SibSp          891 non-null int64\n",
      "Parch          891 non-null int64\n",
      "Ticket         891 non-null object\n",
      "Fare           891 non-null float64\n",
      "Cabin          204 non-null object\n",
      "Embarked       889 non-null object\n",
      "dtypes: float64(2), int64(5), object(5)\n",
      "memory usage: 83.7+ KB\n"
     ]
    }
   ],
   "source": [
    "master.info()"
   ]
  },
  {
   "cell_type": "code",
   "execution_count": 228,
   "metadata": {},
   "outputs": [
    {
     "data": {
      "text/html": [
       "<div>\n",
       "<style scoped>\n",
       "    .dataframe tbody tr th:only-of-type {\n",
       "        vertical-align: middle;\n",
       "    }\n",
       "\n",
       "    .dataframe tbody tr th {\n",
       "        vertical-align: top;\n",
       "    }\n",
       "\n",
       "    .dataframe thead th {\n",
       "        text-align: right;\n",
       "    }\n",
       "</style>\n",
       "<table border=\"1\" class=\"dataframe\">\n",
       "  <thead>\n",
       "    <tr style=\"text-align: right;\">\n",
       "      <th></th>\n",
       "      <th>Pclass</th>\n",
       "      <th>Sex</th>\n",
       "      <th>Age</th>\n",
       "      <th>SibSp</th>\n",
       "      <th>Parch</th>\n",
       "      <th>Fare</th>\n",
       "      <th>Embarked</th>\n",
       "    </tr>\n",
       "  </thead>\n",
       "  <tbody>\n",
       "    <tr>\n",
       "      <th>0</th>\n",
       "      <td>3</td>\n",
       "      <td>male</td>\n",
       "      <td>22.0</td>\n",
       "      <td>1</td>\n",
       "      <td>0</td>\n",
       "      <td>7.2500</td>\n",
       "      <td>S</td>\n",
       "    </tr>\n",
       "    <tr>\n",
       "      <th>1</th>\n",
       "      <td>1</td>\n",
       "      <td>female</td>\n",
       "      <td>38.0</td>\n",
       "      <td>1</td>\n",
       "      <td>0</td>\n",
       "      <td>71.2833</td>\n",
       "      <td>C</td>\n",
       "    </tr>\n",
       "    <tr>\n",
       "      <th>2</th>\n",
       "      <td>3</td>\n",
       "      <td>female</td>\n",
       "      <td>26.0</td>\n",
       "      <td>0</td>\n",
       "      <td>0</td>\n",
       "      <td>7.9250</td>\n",
       "      <td>S</td>\n",
       "    </tr>\n",
       "    <tr>\n",
       "      <th>3</th>\n",
       "      <td>1</td>\n",
       "      <td>female</td>\n",
       "      <td>35.0</td>\n",
       "      <td>1</td>\n",
       "      <td>0</td>\n",
       "      <td>53.1000</td>\n",
       "      <td>S</td>\n",
       "    </tr>\n",
       "    <tr>\n",
       "      <th>4</th>\n",
       "      <td>3</td>\n",
       "      <td>male</td>\n",
       "      <td>35.0</td>\n",
       "      <td>0</td>\n",
       "      <td>0</td>\n",
       "      <td>8.0500</td>\n",
       "      <td>S</td>\n",
       "    </tr>\n",
       "    <tr>\n",
       "      <th>...</th>\n",
       "      <td>...</td>\n",
       "      <td>...</td>\n",
       "      <td>...</td>\n",
       "      <td>...</td>\n",
       "      <td>...</td>\n",
       "      <td>...</td>\n",
       "      <td>...</td>\n",
       "    </tr>\n",
       "    <tr>\n",
       "      <th>886</th>\n",
       "      <td>2</td>\n",
       "      <td>male</td>\n",
       "      <td>27.0</td>\n",
       "      <td>0</td>\n",
       "      <td>0</td>\n",
       "      <td>13.0000</td>\n",
       "      <td>S</td>\n",
       "    </tr>\n",
       "    <tr>\n",
       "      <th>887</th>\n",
       "      <td>1</td>\n",
       "      <td>female</td>\n",
       "      <td>19.0</td>\n",
       "      <td>0</td>\n",
       "      <td>0</td>\n",
       "      <td>30.0000</td>\n",
       "      <td>S</td>\n",
       "    </tr>\n",
       "    <tr>\n",
       "      <th>888</th>\n",
       "      <td>3</td>\n",
       "      <td>female</td>\n",
       "      <td>NaN</td>\n",
       "      <td>1</td>\n",
       "      <td>2</td>\n",
       "      <td>23.4500</td>\n",
       "      <td>S</td>\n",
       "    </tr>\n",
       "    <tr>\n",
       "      <th>889</th>\n",
       "      <td>1</td>\n",
       "      <td>male</td>\n",
       "      <td>26.0</td>\n",
       "      <td>0</td>\n",
       "      <td>0</td>\n",
       "      <td>30.0000</td>\n",
       "      <td>C</td>\n",
       "    </tr>\n",
       "    <tr>\n",
       "      <th>890</th>\n",
       "      <td>3</td>\n",
       "      <td>male</td>\n",
       "      <td>32.0</td>\n",
       "      <td>0</td>\n",
       "      <td>0</td>\n",
       "      <td>7.7500</td>\n",
       "      <td>Q</td>\n",
       "    </tr>\n",
       "  </tbody>\n",
       "</table>\n",
       "<p>891 rows × 7 columns</p>\n",
       "</div>"
      ],
      "text/plain": [
       "     Pclass     Sex   Age  SibSp  Parch     Fare Embarked\n",
       "0         3    male  22.0      1      0   7.2500        S\n",
       "1         1  female  38.0      1      0  71.2833        C\n",
       "2         3  female  26.0      0      0   7.9250        S\n",
       "3         1  female  35.0      1      0  53.1000        S\n",
       "4         3    male  35.0      0      0   8.0500        S\n",
       "..      ...     ...   ...    ...    ...      ...      ...\n",
       "886       2    male  27.0      0      0  13.0000        S\n",
       "887       1  female  19.0      0      0  30.0000        S\n",
       "888       3  female   NaN      1      2  23.4500        S\n",
       "889       1    male  26.0      0      0  30.0000        C\n",
       "890       3    male  32.0      0      0   7.7500        Q\n",
       "\n",
       "[891 rows x 7 columns]"
      ]
     },
     "execution_count": 228,
     "metadata": {},
     "output_type": "execute_result"
    }
   ],
   "source": [
    "data = master[['Pclass','Sex','Age','SibSp','Parch','Fare','Embarked']]\n",
    "data"
   ]
  },
  {
   "cell_type": "code",
   "execution_count": 229,
   "metadata": {},
   "outputs": [],
   "source": [
    "data = data.fillna(value = -1)"
   ]
  },
  {
   "cell_type": "code",
   "execution_count": 230,
   "metadata": {},
   "outputs": [],
   "source": [
    "data = pd.concat([data,pd.get_dummies(data['Embarked'])],axis = 1).drop(columns = ['Embarked'])\n",
    "data = pd.concat([data,pd.get_dummies(data['Sex'])],axis = 1).drop(columns = ['Sex'])"
   ]
  },
  {
   "cell_type": "code",
   "execution_count": 231,
   "metadata": {
    "scrolled": true
   },
   "outputs": [
    {
     "data": {
      "text/html": [
       "<div>\n",
       "<style scoped>\n",
       "    .dataframe tbody tr th:only-of-type {\n",
       "        vertical-align: middle;\n",
       "    }\n",
       "\n",
       "    .dataframe tbody tr th {\n",
       "        vertical-align: top;\n",
       "    }\n",
       "\n",
       "    .dataframe thead th {\n",
       "        text-align: right;\n",
       "    }\n",
       "</style>\n",
       "<table border=\"1\" class=\"dataframe\">\n",
       "  <thead>\n",
       "    <tr style=\"text-align: right;\">\n",
       "      <th></th>\n",
       "      <th>Pclass</th>\n",
       "      <th>Age</th>\n",
       "      <th>SibSp</th>\n",
       "      <th>Parch</th>\n",
       "      <th>Fare</th>\n",
       "      <th>-1</th>\n",
       "      <th>C</th>\n",
       "      <th>Q</th>\n",
       "      <th>S</th>\n",
       "      <th>female</th>\n",
       "      <th>male</th>\n",
       "    </tr>\n",
       "  </thead>\n",
       "  <tbody>\n",
       "    <tr>\n",
       "      <th>0</th>\n",
       "      <td>3</td>\n",
       "      <td>22.0</td>\n",
       "      <td>1</td>\n",
       "      <td>0</td>\n",
       "      <td>7.2500</td>\n",
       "      <td>0</td>\n",
       "      <td>0</td>\n",
       "      <td>0</td>\n",
       "      <td>1</td>\n",
       "      <td>0</td>\n",
       "      <td>1</td>\n",
       "    </tr>\n",
       "    <tr>\n",
       "      <th>1</th>\n",
       "      <td>1</td>\n",
       "      <td>38.0</td>\n",
       "      <td>1</td>\n",
       "      <td>0</td>\n",
       "      <td>71.2833</td>\n",
       "      <td>0</td>\n",
       "      <td>1</td>\n",
       "      <td>0</td>\n",
       "      <td>0</td>\n",
       "      <td>1</td>\n",
       "      <td>0</td>\n",
       "    </tr>\n",
       "    <tr>\n",
       "      <th>2</th>\n",
       "      <td>3</td>\n",
       "      <td>26.0</td>\n",
       "      <td>0</td>\n",
       "      <td>0</td>\n",
       "      <td>7.9250</td>\n",
       "      <td>0</td>\n",
       "      <td>0</td>\n",
       "      <td>0</td>\n",
       "      <td>1</td>\n",
       "      <td>1</td>\n",
       "      <td>0</td>\n",
       "    </tr>\n",
       "    <tr>\n",
       "      <th>3</th>\n",
       "      <td>1</td>\n",
       "      <td>35.0</td>\n",
       "      <td>1</td>\n",
       "      <td>0</td>\n",
       "      <td>53.1000</td>\n",
       "      <td>0</td>\n",
       "      <td>0</td>\n",
       "      <td>0</td>\n",
       "      <td>1</td>\n",
       "      <td>1</td>\n",
       "      <td>0</td>\n",
       "    </tr>\n",
       "    <tr>\n",
       "      <th>4</th>\n",
       "      <td>3</td>\n",
       "      <td>35.0</td>\n",
       "      <td>0</td>\n",
       "      <td>0</td>\n",
       "      <td>8.0500</td>\n",
       "      <td>0</td>\n",
       "      <td>0</td>\n",
       "      <td>0</td>\n",
       "      <td>1</td>\n",
       "      <td>0</td>\n",
       "      <td>1</td>\n",
       "    </tr>\n",
       "    <tr>\n",
       "      <th>...</th>\n",
       "      <td>...</td>\n",
       "      <td>...</td>\n",
       "      <td>...</td>\n",
       "      <td>...</td>\n",
       "      <td>...</td>\n",
       "      <td>...</td>\n",
       "      <td>...</td>\n",
       "      <td>...</td>\n",
       "      <td>...</td>\n",
       "      <td>...</td>\n",
       "      <td>...</td>\n",
       "    </tr>\n",
       "    <tr>\n",
       "      <th>886</th>\n",
       "      <td>2</td>\n",
       "      <td>27.0</td>\n",
       "      <td>0</td>\n",
       "      <td>0</td>\n",
       "      <td>13.0000</td>\n",
       "      <td>0</td>\n",
       "      <td>0</td>\n",
       "      <td>0</td>\n",
       "      <td>1</td>\n",
       "      <td>0</td>\n",
       "      <td>1</td>\n",
       "    </tr>\n",
       "    <tr>\n",
       "      <th>887</th>\n",
       "      <td>1</td>\n",
       "      <td>19.0</td>\n",
       "      <td>0</td>\n",
       "      <td>0</td>\n",
       "      <td>30.0000</td>\n",
       "      <td>0</td>\n",
       "      <td>0</td>\n",
       "      <td>0</td>\n",
       "      <td>1</td>\n",
       "      <td>1</td>\n",
       "      <td>0</td>\n",
       "    </tr>\n",
       "    <tr>\n",
       "      <th>888</th>\n",
       "      <td>3</td>\n",
       "      <td>-1.0</td>\n",
       "      <td>1</td>\n",
       "      <td>2</td>\n",
       "      <td>23.4500</td>\n",
       "      <td>0</td>\n",
       "      <td>0</td>\n",
       "      <td>0</td>\n",
       "      <td>1</td>\n",
       "      <td>1</td>\n",
       "      <td>0</td>\n",
       "    </tr>\n",
       "    <tr>\n",
       "      <th>889</th>\n",
       "      <td>1</td>\n",
       "      <td>26.0</td>\n",
       "      <td>0</td>\n",
       "      <td>0</td>\n",
       "      <td>30.0000</td>\n",
       "      <td>0</td>\n",
       "      <td>1</td>\n",
       "      <td>0</td>\n",
       "      <td>0</td>\n",
       "      <td>0</td>\n",
       "      <td>1</td>\n",
       "    </tr>\n",
       "    <tr>\n",
       "      <th>890</th>\n",
       "      <td>3</td>\n",
       "      <td>32.0</td>\n",
       "      <td>0</td>\n",
       "      <td>0</td>\n",
       "      <td>7.7500</td>\n",
       "      <td>0</td>\n",
       "      <td>0</td>\n",
       "      <td>1</td>\n",
       "      <td>0</td>\n",
       "      <td>0</td>\n",
       "      <td>1</td>\n",
       "    </tr>\n",
       "  </tbody>\n",
       "</table>\n",
       "<p>891 rows × 11 columns</p>\n",
       "</div>"
      ],
      "text/plain": [
       "     Pclass   Age  SibSp  Parch     Fare  -1  C  Q  S  female  male\n",
       "0         3  22.0      1      0   7.2500   0  0  0  1       0     1\n",
       "1         1  38.0      1      0  71.2833   0  1  0  0       1     0\n",
       "2         3  26.0      0      0   7.9250   0  0  0  1       1     0\n",
       "3         1  35.0      1      0  53.1000   0  0  0  1       1     0\n",
       "4         3  35.0      0      0   8.0500   0  0  0  1       0     1\n",
       "..      ...   ...    ...    ...      ...  .. .. .. ..     ...   ...\n",
       "886       2  27.0      0      0  13.0000   0  0  0  1       0     1\n",
       "887       1  19.0      0      0  30.0000   0  0  0  1       1     0\n",
       "888       3  -1.0      1      2  23.4500   0  0  0  1       1     0\n",
       "889       1  26.0      0      0  30.0000   0  1  0  0       0     1\n",
       "890       3  32.0      0      0   7.7500   0  0  1  0       0     1\n",
       "\n",
       "[891 rows x 11 columns]"
      ]
     },
     "execution_count": 231,
     "metadata": {},
     "output_type": "execute_result"
    }
   ],
   "source": [
    "data"
   ]
  },
  {
   "cell_type": "code",
   "execution_count": 232,
   "metadata": {},
   "outputs": [
    {
     "data": {
      "text/plain": [
       "array([ 3.  , 22.  ,  1.  ,  0.  ,  7.25,  0.  ,  0.  ,  0.  ,  1.  ,\n",
       "        0.  ,  1.  ])"
      ]
     },
     "execution_count": 232,
     "metadata": {},
     "output_type": "execute_result"
    }
   ],
   "source": [
    "d  = data.iloc[:,:].values\n",
    "d[0]"
   ]
  },
  {
   "cell_type": "code",
   "execution_count": 233,
   "metadata": {},
   "outputs": [],
   "source": [
    "d_biased = np.c_[np.ones(len(d)),d]"
   ]
  },
  {
   "cell_type": "code",
   "execution_count": 234,
   "metadata": {},
   "outputs": [
    {
     "data": {
      "text/plain": [
       "array([[ 1.,  3., 22., ...,  1.,  0.,  1.],\n",
       "       [ 1.,  1., 38., ...,  0.,  1.,  0.],\n",
       "       [ 1.,  3., 26., ...,  1.,  1.,  0.],\n",
       "       ...,\n",
       "       [ 1.,  3., -1., ...,  1.,  1.,  0.],\n",
       "       [ 1.,  1., 26., ...,  0.,  0.,  1.],\n",
       "       [ 1.,  3., 32., ...,  0.,  0.,  1.]])"
      ]
     },
     "execution_count": 234,
     "metadata": {},
     "output_type": "execute_result"
    }
   ],
   "source": [
    "d_biased"
   ]
  },
  {
   "cell_type": "code",
   "execution_count": 235,
   "metadata": {},
   "outputs": [],
   "source": [
    "truth = master['Survived'].values"
   ]
  },
  {
   "cell_type": "markdown",
   "metadata": {},
   "source": [
    "# General ANN Structure"
   ]
  },
  {
   "cell_type": "code",
   "execution_count": 236,
   "metadata": {},
   "outputs": [],
   "source": [
    "from tensorflow.keras.models import Sequential\n",
    "from tensorflow.keras.layers import Dense,Dropout\n",
    "from tensorflow.keras.optimizers import Adam"
   ]
  },
  {
   "cell_type": "code",
   "execution_count": 237,
   "metadata": {},
   "outputs": [],
   "source": [
    "def create_model(inputsize):\n",
    "    model = Sequential()\n",
    "    model.add(Dense(units = 256, input_dim = inputsize, activation = 'relu'))\n",
    "    model.add(Dense( units = 256, activation = 'relu'))\n",
    "    model.add(Dense( units = 256, activation = 'relu'))\n",
    "    model.add(Dense( units = 256, activation = 'relu'))\n",
    "    model.add(Dense( units = 256, activation = 'relu'))\n",
    "    model.add(Dense( units = 256, activation = 'relu'))\n",
    "    model.add(Dense( units = 256, activation = 'relu'))\n",
    "    model.add(Dense( units = 1, activation = 'sigmoid'))\n",
    "    model.compile(loss='binary_crossentropy', optimizer=Adam(lr = 0.01), metrics=['accuracy'])\n",
    "    return model\n",
    "              "
   ]
  },
  {
   "cell_type": "code",
   "execution_count": 238,
   "metadata": {},
   "outputs": [],
   "source": [
    "def create_model_probability(inputsize):\n",
    "    model = Sequential()\n",
    "    model.add(Dense(units = 256, input_dim = inputsize, activation = 'relu'))\n",
    "    model.add(Dense( units = 256, activation = 'relu'))\n",
    "    model.add(Dense( units = 256, activation = 'relu'))\n",
    "    model.add(Dense( units = 256, activation = 'relu'))\n",
    "    model.add(Dense( units = 256, activation = 'relu'))\n",
    "    model.add(Dense( units = 256, activation = 'relu'))\n",
    "    model.add(Dense( units = 256, activation = 'relu'))\n",
    "    model.add(Dense( units = 1, activation = 'softmax'))\n",
    "    model.compile(loss='mean_squared_error', optimizer=Adam(lr = 0.01), metrics=['accuracy'])\n",
    "    return model\n",
    "              "
   ]
  },
  {
   "cell_type": "code",
   "execution_count": 239,
   "metadata": {},
   "outputs": [],
   "source": [
    "class myCallback(tf.keras.callbacks.Callback): \n",
    "    def on_epoch_end(self, epoch, logs={}): \n",
    "        if(logs.get('val_acc') > 0.8):   \n",
    "            print(\"\\nWe have reached %2.2f%% accuracy, so we will stopping training.\" %(logs.get('val_acc')*100))   \n",
    "            self.model.stop_training = True"
   ]
  },
  {
   "cell_type": "markdown",
   "metadata": {},
   "source": [
    "# Test Train Split"
   ]
  },
  {
   "cell_type": "code",
   "execution_count": 240,
   "metadata": {},
   "outputs": [],
   "source": [
    "from sklearn.model_selection import train_test_split"
   ]
  },
  {
   "cell_type": "code",
   "execution_count": 241,
   "metadata": {},
   "outputs": [],
   "source": [
    "X_train, X_test, y_train, y_test = train_test_split(d, truth, test_size=0.20, random_state=42)"
   ]
  },
  {
   "cell_type": "code",
   "execution_count": 242,
   "metadata": {},
   "outputs": [],
   "source": [
    "Xb_train, Xb_test, yb_train, yb_test = train_test_split(d_biased, truth, test_size=0.20, random_state=42)"
   ]
  },
  {
   "cell_type": "markdown",
   "metadata": {},
   "source": [
    "# Training"
   ]
  },
  {
   "cell_type": "markdown",
   "metadata": {},
   "source": [
    "## Predict Yes or No"
   ]
  },
  {
   "cell_type": "code",
   "execution_count": 223,
   "metadata": {},
   "outputs": [
    {
     "name": "stdout",
     "output_type": "stream",
     "text": [
      "Train on 712 samples, validate on 179 samples\n",
      "Epoch 1/20\n",
      " - 2s - loss: 1.2593 - acc: 0.5534 - val_loss: 0.6339 - val_acc: 0.5866\n",
      "Epoch 2/20\n",
      " - 0s - loss: 0.6339 - acc: 0.6404 - val_loss: 0.6425 - val_acc: 0.5866\n",
      "Epoch 3/20\n",
      " - 0s - loss: 0.6142 - acc: 0.6250 - val_loss: 0.5894 - val_acc: 0.6201\n",
      "Epoch 4/20\n",
      " - 0s - loss: 0.6208 - acc: 0.6559 - val_loss: 0.5848 - val_acc: 0.6034\n",
      "Epoch 5/20\n",
      " - 0s - loss: 0.5996 - acc: 0.6770 - val_loss: 0.6389 - val_acc: 0.6257\n",
      "Epoch 6/20\n",
      " - 0s - loss: 0.5703 - acc: 0.7051 - val_loss: 0.5243 - val_acc: 0.7486\n",
      "Epoch 7/20\n",
      " - 0s - loss: 0.5684 - acc: 0.7612 - val_loss: 0.5434 - val_acc: 0.7654\n",
      "Epoch 8/20\n",
      " - 0s - loss: 0.5617 - acc: 0.7317 - val_loss: 0.5015 - val_acc: 0.7765\n",
      "Epoch 9/20\n",
      " - 0s - loss: 0.5113 - acc: 0.7556 - val_loss: 0.5305 - val_acc: 0.7598\n",
      "Epoch 10/20\n",
      " - 0s - loss: 0.5397 - acc: 0.7626 - val_loss: 0.5423 - val_acc: 0.7598\n",
      "Epoch 11/20\n",
      "\n",
      "We have reached 80.45% accuracy, so we will stopping training.\n",
      " - 0s - loss: 0.5347 - acc: 0.7809 - val_loss: 0.4549 - val_acc: 0.8045\n"
     ]
    }
   ],
   "source": [
    "m1 = create_model(11)\n",
    "callbacks = myCallback()\n",
    "h1 = m1.fit(X_train,y_train,validation_data=(X_test,y_test),epochs = 20,batch_size = 32,verbose = 2,callbacks=[callbacks])"
   ]
  },
  {
   "cell_type": "code",
   "execution_count": 243,
   "metadata": {},
   "outputs": [
    {
     "name": "stdout",
     "output_type": "stream",
     "text": [
      "Train on 712 samples, validate on 179 samples\n",
      "Epoch 1/20\n",
      " - 2s - loss: 1.3767 - acc: 0.5604 - val_loss: 0.6423 - val_acc: 0.6034\n",
      "Epoch 2/20\n",
      " - 0s - loss: 0.6145 - acc: 0.6713 - val_loss: 0.5452 - val_acc: 0.6648\n",
      "Epoch 3/20\n",
      " - 0s - loss: 0.6257 - acc: 0.6882 - val_loss: 0.6034 - val_acc: 0.6927\n",
      "Epoch 4/20\n",
      " - 0s - loss: 0.5944 - acc: 0.6728 - val_loss: 0.5550 - val_acc: 0.7709\n",
      "Epoch 5/20\n",
      " - 0s - loss: 0.5404 - acc: 0.7598 - val_loss: 0.5846 - val_acc: 0.7374\n",
      "Epoch 6/20\n",
      " - 0s - loss: 0.5723 - acc: 0.7528 - val_loss: 0.4826 - val_acc: 0.7821\n",
      "Epoch 7/20\n",
      " - 0s - loss: 0.5062 - acc: 0.7781 - val_loss: 0.5014 - val_acc: 0.7821\n",
      "Epoch 8/20\n",
      " - 0s - loss: 0.5024 - acc: 0.7683 - val_loss: 0.5819 - val_acc: 0.5866\n",
      "Epoch 9/20\n",
      " - 0s - loss: 0.5532 - acc: 0.7149 - val_loss: 0.5361 - val_acc: 0.7877\n",
      "Epoch 10/20\n",
      " - 0s - loss: 0.4826 - acc: 0.8020 - val_loss: 0.7749 - val_acc: 0.7654\n",
      "Epoch 11/20\n",
      " - 0s - loss: 0.5235 - acc: 0.8146 - val_loss: 0.5717 - val_acc: 0.7765\n",
      "Epoch 12/20\n",
      "\n",
      "We have reached 82.12% accuracy, so we will stopping training.\n",
      " - 0s - loss: 0.5031 - acc: 0.7907 - val_loss: 0.4404 - val_acc: 0.8212\n"
     ]
    }
   ],
   "source": [
    "m2 = create_model(12)\n",
    "callbacks = myCallback()\n",
    "h2 = m2.fit(Xb_train,yb_train,validation_data=(Xb_test,yb_test),epochs = 20,batch_size = 32,verbose = 2,callbacks=[callbacks])"
   ]
  },
  {
   "cell_type": "code",
   "execution_count": 244,
   "metadata": {},
   "outputs": [
    {
     "data": {
      "image/png": "[encoded data removed]",
      "text/plain": [
       "<Figure size 432x288 with 1 Axes>"
      ]
     },
     "metadata": {
      "needs_background": "light"
     },
     "output_type": "display_data"
    },
    {
     "data": {
      "image/png": "[encoded data removed]",
      "text/plain": [
       "<Figure size 432x288 with 1 Axes>"
      ]
     },
     "metadata": {
      "needs_background": "light"
     },
     "output_type": "display_data"
    }
   ],
   "source": [
    "plt.plot(h1.history['acc'])\n",
    "plt.plot(h1.history['val_acc'])\n",
    "plt.title('Model accuracy')\n",
    "plt.ylabel('Accuracy')\n",
    "plt.xlabel('Epoch')\n",
    "plt.legend(['Train M1', 'Test M1'], loc='upper left')\n",
    "plt.show()\n",
    "plt.plot(h2.history['acc'])\n",
    "plt.plot(h2.history['val_acc'])\n",
    "plt.title('Model accuracy')\n",
    "plt.ylabel('Accuracy')\n",
    "plt.xlabel('Epoch')\n",
    "plt.legend(['Train M2', 'Test M2'], loc='upper left')\n",
    "plt.show()\n"
   ]
  },
  {
   "cell_type": "markdown",
   "metadata": {},
   "source": [
    "## Predict Probability of Yes"
   ]
  },
  {
   "cell_type": "code",
   "execution_count": 245,
   "metadata": {},
   "outputs": [
    {
     "name": "stdout",
     "output_type": "stream",
     "text": [
      "Train on 712 samples, validate on 179 samples\n",
      "Epoch 1/20\n",
      " - 2s - loss: 0.6236 - acc: 0.3764 - val_loss: 0.5866 - val_acc: 0.4134\n",
      "Epoch 2/20\n",
      " - 0s - loss: 0.6236 - acc: 0.3764 - val_loss: 0.5866 - val_acc: 0.4134\n",
      "Epoch 3/20\n",
      " - 0s - loss: 0.6236 - acc: 0.3764 - val_loss: 0.5866 - val_acc: 0.4134\n",
      "Epoch 4/20\n",
      " - 0s - loss: 0.6236 - acc: 0.3764 - val_loss: 0.5866 - val_acc: 0.4134\n",
      "Epoch 5/20\n",
      " - 0s - loss: 0.6236 - acc: 0.3764 - val_loss: 0.5866 - val_acc: 0.4134\n",
      "Epoch 6/20\n",
      " - 0s - loss: 0.6236 - acc: 0.3764 - val_loss: 0.5866 - val_acc: 0.4134\n",
      "Epoch 7/20\n",
      " - 0s - loss: 0.6236 - acc: 0.3764 - val_loss: 0.5866 - val_acc: 0.4134\n",
      "Epoch 8/20\n",
      " - 0s - loss: 0.6236 - acc: 0.3764 - val_loss: 0.5866 - val_acc: 0.4134\n",
      "Epoch 9/20\n",
      " - 0s - loss: 0.6236 - acc: 0.3764 - val_loss: 0.5866 - val_acc: 0.4134\n",
      "Epoch 10/20\n",
      " - 0s - loss: 0.6236 - acc: 0.3764 - val_loss: 0.5866 - val_acc: 0.4134\n",
      "Epoch 11/20\n",
      " - 0s - loss: 0.6236 - acc: 0.3764 - val_loss: 0.5866 - val_acc: 0.4134\n",
      "Epoch 12/20\n",
      " - 0s - loss: 0.6236 - acc: 0.3764 - val_loss: 0.5866 - val_acc: 0.4134\n",
      "Epoch 13/20\n",
      " - 0s - loss: 0.6236 - acc: 0.3764 - val_loss: 0.5866 - val_acc: 0.4134\n",
      "Epoch 14/20\n",
      " - 0s - loss: 0.6236 - acc: 0.3764 - val_loss: 0.5866 - val_acc: 0.4134\n",
      "Epoch 15/20\n",
      " - 0s - loss: 0.6236 - acc: 0.3764 - val_loss: 0.5866 - val_acc: 0.4134\n",
      "Epoch 16/20\n",
      " - 0s - loss: 0.6236 - acc: 0.3764 - val_loss: 0.5866 - val_acc: 0.4134\n",
      "Epoch 17/20\n",
      " - 0s - loss: 0.6236 - acc: 0.3764 - val_loss: 0.5866 - val_acc: 0.4134\n",
      "Epoch 18/20\n",
      " - 0s - loss: 0.6236 - acc: 0.3764 - val_loss: 0.5866 - val_acc: 0.4134\n",
      "Epoch 19/20\n",
      " - 0s - loss: 0.6236 - acc: 0.3764 - val_loss: 0.5866 - val_acc: 0.4134\n",
      "Epoch 20/20\n",
      " - 0s - loss: 0.6236 - acc: 0.3764 - val_loss: 0.5866 - val_acc: 0.4134\n"
     ]
    }
   ],
   "source": [
    "m3 = create_model_probability(11)\n",
    "h3 = m3.fit(X_train,y_train,validation_data=(X_test,y_test),epochs = 20,batch_size = 32,verbose = 2)"
   ]
  },
  {
   "cell_type": "code",
   "execution_count": null,
   "metadata": {},
   "outputs": [],
   "source": []
  }
 ],
 "metadata": {
  "kernelspec": {
   "display_name": "tf2",
   "language": "python",
   "name": "tf2"
  },
  "language_info": {
   "codemirror_mode": {
    "name": "ipython",
    "version": 3
   },
   "file_extension": ".py",
   "mimetype": "text/x-python",
   "name": "python",
   "nbconvert_exporter": "python",
   "pygments_lexer": "ipython3",
   "version": "3.7.3"
  }
 },
 "nbformat": 4,
 "nbformat_minor": 2
}
